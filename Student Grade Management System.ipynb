{
 "cells": [
  {
   "cell_type": "code",
   "execution_count": 1,
   "id": "ee4fce49-ed8a-4fba-9929-1ad594953f2b",
   "metadata": {},
   "outputs": [],
   "source": [
    "#1)Define a Function to Calculate the Grade\n",
    "# Step 1: Function to calculate grade based on total score\n",
    "def calculate_grade(total_score):\n",
    "    if total_score >= 90:\n",
    "        return 'A'\n",
    "    elif total_score >= 80:\n",
    "        return 'B'\n",
    "    elif total_score >= 70:\n",
    "        return 'C'\n",
    "    elif total_score >= 60:\n",
    "        return 'D'\n",
    "    else:\n",
    "        return 'F'\n"
   ]
  },
  {
   "cell_type": "code",
   "execution_count": 2,
   "id": "42614e88-fb82-4c22-91e3-ffc0421cbe92",
   "metadata": {},
   "outputs": [],
   "source": [
    "#2)Create a Function to Display Student Details\n",
    "# Step 2: Function to display student details\n",
    "def display_students(student_list):\n",
    "    print(f\"\\n{'ID':<10}{'Name':<20}{'Total Score':<15}{'Grade':<10}\")\n",
    "    print(\"=\" * 55)\n",
    "    for student in student_list:\n",
    "        print(f\"{student['ID']:<10}{student['Name']:<20}{student['Total Score']:<15}{student['Grade']:<10}\")\n"
   ]
  },
  {
   "cell_type": "code",
   "execution_count": 3,
   "id": "89f7d906-f9a4-414d-9dc8-d78ed810eab6",
   "metadata": {},
   "outputs": [],
   "source": [
    "#3)Initialize an Empty List to Store Student Data\n",
    "# Step 3: Initialize an empty list to store students' data\n",
    "students = []\n"
   ]
  },
  {
   "cell_type": "code",
   "execution_count": 8,
   "id": "f3ed607d-9a57-4dad-8f50-561fbf8d251d",
   "metadata": {},
   "outputs": [
    {
     "name": "stdin",
     "output_type": "stream",
     "text": [
      "Enter student's name:  john Doe\n",
      "Enter student ID:  102\n",
      "Enter score for subject 1:  87\n",
      "Enter score for subject 2:  98\n",
      "Enter score for subject 3:  90\n",
      "Do you want to add another student? (yes/no):  yes\n",
      "Enter student's name:  Abhishek\n",
      "Enter student ID:  103\n",
      "Enter score for subject 1:  66\n",
      "Enter score for subject 2:  76\n",
      "Enter score for subject 3:  89\n",
      "Do you want to add another student? (yes/no):  no\n"
     ]
    }
   ],
   "source": [
    "#4)Create a Loop to Input Multiple Students' Data\n",
    "# Step 4: Loop to input student data\n",
    "while True:\n",
    "    # Get student details\n",
    "    name = input(\"Enter student's name: \")\n",
    "    student_id = input(\"Enter student ID: \")\n",
    "    \n",
    "    # Get scores for at least 3 subjects\n",
    "    scores = []\n",
    "    for i in range(3):\n",
    "        score = float(input(f\"Enter score for subject {i + 1}: \"))\n",
    "        scores.append(score)\n",
    "    \n",
    "    # Calculate total score and grade\n",
    "    total_score = sum(scores)\n",
    "    grade = calculate_grade(total_score)\n",
    "    \n",
    "    # Store student data in a dictionary\n",
    "    student_data = {\n",
    "        'Name': name,\n",
    "        'ID': student_id,\n",
    "        'Total Score': total_score,\n",
    "        'Grade': grade\n",
    "    }\n",
    "    \n",
    "    # Add the student data to the list of students\n",
    "    students.append(student_data)\n",
    "    \n",
    "    # Ask if more students need to be added\n",
    "    more_students = input(\"Do you want to add another student? (yes/no): \").lower()\n",
    "    if more_students != 'yes':\n",
    "        break\n"
   ]
  },
  {
   "cell_type": "code",
   "execution_count": 9,
   "id": "9f86d16e-59ad-4b01-aee4-8cec5fb5e2f7",
   "metadata": {},
   "outputs": [
    {
     "name": "stdout",
     "output_type": "stream",
     "text": [
      "\n",
      "ID        Name                Total Score    Grade     \n",
      "=======================================================\n",
      "101       john Doe            253.0          A         \n",
      "102       john Doe            275.0          A         \n",
      "103       Abhishek            231.0          A         \n"
     ]
    }
   ],
   "source": [
    "#5)Display All Students' Details\n",
    "# Step 5: Display the details of all students\n",
    "display_students(students)\n"
   ]
  },
  {
   "cell_type": "code",
   "execution_count": null,
   "id": "8d55872e-00ce-468c-90af-7dbf023cabe8",
   "metadata": {},
   "outputs": [],
   "source": []
  }
 ],
 "metadata": {
  "kernelspec": {
   "display_name": "Python 3 (ipykernel)",
   "language": "python",
   "name": "python3"
  },
  "language_info": {
   "codemirror_mode": {
    "name": "ipython",
    "version": 3
   },
   "file_extension": ".py",
   "mimetype": "text/x-python",
   "name": "python",
   "nbconvert_exporter": "python",
   "pygments_lexer": "ipython3",
   "version": "3.12.0"
  }
 },
 "nbformat": 4,
 "nbformat_minor": 5
}
